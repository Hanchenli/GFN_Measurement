import csv

# Assuming your file is named "/content/trace.csv"
filename = "/content/trace.csv"

a_list, b_list, c_list, d_list, e_list = [], [], [], [], []

with open(filename, 'r') as file:
    reader = csv.reader(file)
    group = []
    for row in reader:
        group.append(float(row[0]))
        if len(group) == 5:
            a_list.append(group[0])
            b_list.append(group[1])
            c_list.append(group[2])
            d_list.append(group[3])
            e_list.append(group[4])
            group = []  # Reset the group for the next set of numbers

# Now you can plot the time series as before
import matplotlib.pyplot as plt

# Assuming you have a time index for your data, you can create it as follows
# time_index = [time1, time2, time3, ...]
time_index = list(range(1, len(a_list) + 1))



plt.figure(figsize=(5, 3))
plt.plot(time_index, c_list, label='Real Bandwidth', color = "brown")
plt.ylabel("Bandwidth(Mb)")
plt.xlabel("Time(s)")
plt.legend()
plt.grid(True)


plt.figure(figsize=(5, 3))
plt.plot(time_index, d_list, label='Used Bandwidth', color = 'green')
plt.legend()
plt.xlabel("Time(s)")
plt.ylabel("Bandwidth(Mb)")

plt.grid(True)

plt.figure(figsize=(5, 3))
plt.plot(time_index, b_list, label='Packet loss')
plt.ylabel("Lost Numbers")

plt.legend()
plt.xlabel("Time(s)")

plt.grid(True)

plt.figure(figsize=(5, 3))
plt.plot(time_index, e_list, label='Ping', color = 'black')
plt.legend()
plt.ylabel("Ping(ms)")
plt.xlabel("Time(s)")

plt.grid(True)

